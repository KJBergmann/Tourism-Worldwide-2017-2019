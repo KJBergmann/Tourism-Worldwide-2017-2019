{
 "cells": [
  {
   "cell_type": "code",
   "execution_count": 1,
   "metadata": {},
   "outputs": [],
   "source": [
    "from matplotlib import pyplot as plt\n",
    "\n",
    "# source https://en.wikipedia.org/wiki/World_Tourism_rankings\n",
    "# source https://www.e-unwto.org/doi/epdf/10.18111/wtobarometereng.2020.18.1.7\n",
    "\n",
    "\n",
    "class TourismWorldwide:\n",
    "    @staticmethod\n",
    "    def most_visited_countries():\n",
    "        countries = ['France', 'Spain', 'US', 'China', 'Italy', 'Turkey', 'Mexico', 'Thailand', 'Germany', 'UK']\n",
    "        # number of tourists in million\n",
    "        tourists_2019 = [0, 83.7, 79.3, 65.7, 64.5, 51.2, 45, 39.8, 39.6, 39.4]\n",
    "        tourists_2018 = [89.4, 82.8, 79.7, 61.6, 62.1, 45.8, 41.3, 38.2, 38.9, 38.7]\n",
    "        tourists_2017 = [86.9, 81.9, 77.2, 60.7, 58.3, 37.6, 39.3, 35.6, 37.5, 39.5]\n",
    "\n",
    "        plt.title('Most Visited Countries')\n",
    "        plt.ylabel('Number of Tourists in Million')\n",
    "        plt.plot(countries, tourists_2017, 'solid', color='red', label='2017')\n",
    "        plt.plot(countries, tourists_2018, 'solid', color='green', label='2018')\n",
    "        plt.plot(countries, tourists_2019, 'solid', color='blue', label='2019')\n",
    "\n",
    "        fname = 'Most Visited Countries.pdf'\n",
    "        plt.savefig(fname)\n",
    "\n",
    "    @staticmethod\n",
    "    def money_spend_on_tourism():\n",
    "        countries = ['China', 'US', 'Germany', 'UK', 'France', 'Russia', 'Australia', 'Canada', 'South Korea', 'Italy']\n",
    "        # money spend in billion USD\n",
    "        money_spend_2019 = [254.6, 152.3, 93.2, 71.9, 51.7, 36.2, 36, 35.8, 32.3, 30.3]\n",
    "        money_spend_2018 = [277.3, 144.5, 95.6, 70.9, 48.9, 34.3, 37, 34.5, 35.1, 30.1]\n",
    "        money_spend_2017 = [257.7, 134.9, 89.1, 66.4, 44, 31.1, 34.4, 34.7, 31.7, 27.7]\n",
    "\n",
    "        plt.title('Money Spend on Tourism')\n",
    "        plt.ylabel('Money Spend in Billion USD')\n",
    "        plt.plot(countries, money_spend_2017, 'solid', color='red', label='2017')\n",
    "        plt.plot(countries, money_spend_2018, 'solid', color='green', label='2018')\n",
    "        plt.plot(countries, money_spend_2019, 'solid', color='blue', label='2019')\n",
    "\n",
    "        fname = 'Money Spend on Tourism.pdf'\n",
    "        plt.savefig(fname)\n",
    "\n",
    "    @staticmethod\n",
    "    def leading_european_cities_in_bednights():\n",
    "        cities = ['London', 'Paris', 'Berlin', 'Rome', 'Istanbul', 'Madrid', 'Barcelona', 'Vienna',\n",
    "                  'Prague', 'Amsterdam', 'Munich', 'Hamburg', 'Stockholm', 'Dublin', 'Lisbon']\n",
    "        bednights_in_million = [85.1, 52.45, 34.12, 29.07, 23.93, 20.68, 19.85, 18.64, 18.48, 18.38, 18.29, 15.43,\n",
    "                                15.3, 14.87, 13.82]\n",
    "\n",
    "        plt.title('Leading Cities in Europe in Bednights 2019')\n",
    "        plt.ylabel('Bednights in Million')\n",
    "        # formatting the graph for tourists by destination\n",
    "        plt.title('Top European Cities 2019')\n",
    "        plt.ylabel('Number of Tourists in Million')\n",
    "        plt.bar(range(len(cities)), bednights_in_million)\n",
    "        plt.xticks(range(len(cities)), cities)\n",
    "\n",
    "        # printing the graph to a pdf file\n",
    "        fname = 'Top European Cities.pdf'\n",
    "        plt.savefig(fname)\n"
   ]
  },
  {
   "cell_type": "code",
   "execution_count": null,
   "metadata": {},
   "outputs": [],
   "source": []
  }
 ],
 "metadata": {
  "kernelspec": {
   "display_name": "Python 3",
   "language": "python",
   "name": "python3"
  },
  "language_info": {
   "codemirror_mode": {
    "name": "ipython",
    "version": 3
   },
   "file_extension": ".py",
   "mimetype": "text/x-python",
   "name": "python",
   "nbconvert_exporter": "python",
   "pygments_lexer": "ipython3",
   "version": "3.8.5"
  }
 },
 "nbformat": 4,
 "nbformat_minor": 4
}
